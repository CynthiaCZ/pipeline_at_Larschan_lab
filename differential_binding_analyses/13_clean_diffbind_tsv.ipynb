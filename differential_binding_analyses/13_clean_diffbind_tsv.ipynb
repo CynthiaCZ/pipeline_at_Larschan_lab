{
 "cells": [
  {
   "cell_type": "code",
   "execution_count": 1,
   "metadata": {},
   "outputs": [],
   "source": [
    "import pandas as pd"
   ]
  },
  {
   "cell_type": "code",
   "execution_count": 48,
   "metadata": {},
   "outputs": [],
   "source": [
    "df1 = pd.read_csv('./macs2/reports_tsv/CLAMP_deltaDE-deltaDE_vs_yw_males.tsv', sep='\\t')\n",
    "\n",
    "df1_1 = df1[(df1['seqnames'].str.contains('chrX')) & ~(df1['seqnames'].str.contains('chrX_')) & (df1['Fold']>0) & (df1['FDR']<=0.05)]\n",
    "df1_1.to_csv('./macs2/tsv_files/CLAMP_deltaDE-deltaDE_vs_yw_males_chrX_up.tsv', sep=\"\\t\", index=False)\n",
    "df1_1.iloc[:,0:3].to_csv('./macs2/tsv_files/CLAMP_deltaDE-deltaDE_vs_yw_males_chrX_up_clean.tsv', sep=\"\\t\", index=False, header=False)\n",
    "\n",
    "df1_2 = df1[(df1['seqnames'].str.contains('chrX')) & ~(df1['seqnames'].str.contains('chrX_')) & (df1['Fold']<0) & (df1['FDR']<=0.05)]\n",
    "df1_2.to_csv('./macs2/tsv_files/CLAMP_deltaDE-deltaDE_vs_yw_males_chrX_down.tsv', sep=\"\\t\", index=False)\n",
    "df1_2.iloc[:,0:3].to_csv('./macs2/tsv_files/CLAMP_deltaDE-deltaDE_vs_yw_males_chrX_down_clean.tsv', sep=\"\\t\", index=False, header=False)\n",
    "\n",
    "df1_3 = df1[~(df1['seqnames'].str.contains('chrX')) & (df1['Fold']>0) & (df1['FDR']<=0.05)]\n",
    "df1_3.to_csv('./macs2/tsv_files/CLAMP_deltaDE-deltaDE_vs_yw_males_autosomes_up.tsv', sep=\"\\t\", index=False)\n",
    "df1_3.iloc[:,0:3].to_csv('./macs2/tsv_files/CLAMP_deltaDE-deltaDE_vs_yw_males_autosomes_up_clean.tsv', sep=\"\\t\", index=False, header=False)\n",
    "\n",
    "df1_4 = df1[~(df1['seqnames'].str.contains('chrX')) & (df1['Fold']<0) & (df1['FDR']<=0.05)]\n",
    "df1_4.to_csv('./macs2/tsv_files/CLAMP_deltaDE-deltaDE_vs_yw_males_autosomes_down.tsv', sep=\"\\t\", index=False)\n",
    "df1_4.iloc[:,0:3].to_csv('./macs2/tsv_files/CLAMP_deltaDE-deltaDE_vs_yw_males_autosomes_down_clean.tsv', sep=\"\\t\", index=False, header=False)\n"
   ]
  },
  {
   "cell_type": "code",
   "execution_count": 49,
   "metadata": {},
   "outputs": [],
   "source": [
    "df2 = pd.read_csv('./macs2/reports_tsv/CLAMP_deltaH-deltaH_vs_yw_males.tsv', sep='\\t')\n",
    "\n",
    "df2_1 = df2[(df2['seqnames'].str.contains('chrX')) & ~(df2['seqnames'].str.contains('chrX_')) & (df2['Fold']>0) & (df2['FDR']<=0.05)]\n",
    "df2_1.to_csv('./macs2/tsv_files/CLAMP_deltaH-deltaH_vs_yw_males_chrX_up.tsv', sep=\"\\t\", index=False)\n",
    "df2_1.iloc[:,0:3].to_csv('./macs2/tsv_files/CLAMP_deltaH-deltaH_vs_yw_males_chrX_up_clean.tsv', sep=\"\\t\", index=False, header=False)\n",
    "\n",
    "df2_2 = df2[(df2['seqnames'].str.contains('chrX')) & ~(df2['seqnames'].str.contains('chrX_')) & (df2['Fold']<0) & (df2['FDR']<=0.05)]\n",
    "df2_2.to_csv('./macs2/tsv_files/CLAMP_deltaH-deltaH_vs_yw_males_chrX_down.tsv', sep=\"\\t\", index=False)\n",
    "df2_2.iloc[:,0:3].to_csv('./macs2/tsv_files/CLAMP_deltaH-deltaH_vs_yw_males_chrX_down_clean.tsv', sep=\"\\t\", index=False, header=False)\n",
    "\n",
    "df2_3 = df2[~(df2['seqnames'].str.contains('chrX')) & (df2['Fold']>0) & (df2['FDR']<=0.05)]\n",
    "df2_3.to_csv('./macs2/tsv_files/CLAMP_deltaH-deltaH_vs_yw_males_autosome_up.tsv', sep=\"\\t\", index=False)\n",
    "df2_3.iloc[:,0:3].to_csv('./macs2/tsv_files/CLAMP_deltaH-deltaH_vs_yw_males_autosome_up_clean.tsv', sep=\"\\t\", index=False, header=False)\n",
    "\n",
    "df2_4 = df2[~(df2['seqnames'].str.contains('chrX')) & (df2['Fold']<0) & (df2['FDR']<=0.05)]\n",
    "df2_4.to_csv('./macs2/tsv_files/CLAMP_deltaH-deltaH_vs_yw_males_autosome_down.tsv', sep=\"\\t\", index=False)\n",
    "df2_4.iloc[:,0:3].to_csv('./macs2/tsv_files/CLAMP_deltaH-deltaH_vs_yw_males_autosome_down_clean.tsv', sep=\"\\t\", index=False, header=False)\n"
   ]
  },
  {
   "cell_type": "code",
   "execution_count": 50,
   "metadata": {},
   "outputs": [],
   "source": [
    "df3 = pd.read_csv('./macs2/reports_tsv/MSL2_clampDE-clampDE_vs_yw_males.tsv', sep='\\t')\n",
    "\n",
    "df3_1 = df3[(df3['seqnames'].str.contains('chrX')) & ~(df3['seqnames'].str.contains('chrX_')) & (df3['Fold']>0) & (df3['FDR']<=0.05)]\n",
    "df3_1.to_csv('./macs2/tsv_files/MSL2_clampDE-clampDE_vs_yw_males_chrX_up.tsv', sep=\"\\t\", index=False)\n",
    "df3_1.iloc[:,0:3].to_csv('./macs2/tsv_files/MSL2_clampDE-clampDE_vs_yw_males_chrX_up_clean.tsv', sep=\"\\t\", index=False, header=False)\n",
    "\n",
    "df3_2 = df3[(df3['seqnames'].str.contains('chrX')) & ~(df3['seqnames'].str.contains('chrX_')) & (df3['Fold']<0) & (df3['FDR']<=0.05)]\n",
    "df3_2.to_csv('./macs2/tsv_files/MSL2_clampDE-clampDE_vs_yw_males_chrX_down.tsv', sep=\"\\t\", index=False)\n",
    "df3_2.iloc[:,0:3].to_csv('./macs2/tsv_files/MSL2_clampDE-clampDE_vs_yw_males_chrX_down_clean.tsv', sep=\"\\t\", index=False, header=False)\n",
    "\n",
    "df3_3 = df3[~(df3['seqnames'].str.contains('chrX')) & (df3['Fold']>0) & (df3['FDR']<=0.05)]\n",
    "df3_3.to_csv('./macs2/tsv_files/MSL2_clampDE-clampDE_vs_yw_males_autosomes_up.tsv', sep=\"\\t\", index=False)\n",
    "df3_3.iloc[:,0:3].to_csv('./macs2/tsv_files/MSL2_clampDE-clampDE_vs_yw_males_autosomes_up_clean.tsv', sep=\"\\t\", index=False, header=False)\n",
    "\n",
    "df3_4 = df3[~(df3['seqnames'].str.contains('chrX')) & (df3['Fold']<0) & (df3['FDR']<=0.05)]\n",
    "df3_4.to_csv('./macs2/tsv_files/MSL2_clampDE-clampDE_vs_yw_males_autosomes_down.tsv', sep=\"\\t\", index=False)\n",
    "df3_4.iloc[:,0:3].to_csv('./macs2/tsv_files/MSL2_clampDE-clampDE_vs_yw_males_autosomes_down_clean.tsv', sep=\"\\t\", index=False, header=False)\n"
   ]
  },
  {
   "cell_type": "code",
   "execution_count": 51,
   "metadata": {},
   "outputs": [],
   "source": [
    "df4 = pd.read_csv('./macs2/reports_tsv/MSL2_clampDH-clampDH_vs_yw_males.tsv', sep='\\t')\n",
    "\n",
    "df4_1 = df4[(df4['seqnames'].str.contains('chrX')) & ~(df4['seqnames'].str.contains('chrX_')) & (df4['Fold']>0) & (df4['FDR']<=0.05)]\n",
    "df4_1.to_csv('./macs2/tsv_files/MSL2_clampDH-clampDH_vs_yw_males_chrX_up.tsv', sep=\"\\t\", index=False)\n",
    "df4_1.iloc[:,0:3].to_csv('./macs2/tsv_files/MSL2_clampDH-clampDH_vs_yw_males_chrX_up_clean.tsv', sep=\"\\t\", index=False, header=False)\n",
    "\n",
    "df4_2 = df4[(df4['seqnames'].str.contains('chrX')) & ~(df4['seqnames'].str.contains('chrX_')) & (df4['Fold']<0) & (df4['FDR']<=0.05)]\n",
    "df4_2.to_csv('./macs2/tsv_files/MSL2_clampDH-clampDH_vs_yw_males_chrX_down.tsv', sep=\"\\t\", index=False)\n",
    "df4_2.iloc[:,0:3].to_csv('./macs2/tsv_files/MSL2_clampDH-clampDH_vs_yw_males_chrX_down_clean.tsv', sep=\"\\t\", index=False, header=False)\n",
    "\n",
    "df4_3 = df4[~(df4['seqnames'].str.contains('chrX')) & (df4['Fold']>0) & (df4['FDR']<=0.05)]\n",
    "df4_3.to_csv('./macs2/tsv_files/MSL2_clampDH-clampDH_vs_yw_males_autosomes_up.tsv', sep=\"\\t\", index=False)\n",
    "df4_3.iloc[:,0:3].to_csv('./macs2/tsv_files/MSL2_clampDH-clampDH_vs_yw_males_autosomes_up_clean.tsv', sep=\"\\t\", index=False, header=False)\n",
    "\n",
    "df4_4 = df4[~(df4['seqnames'].str.contains('chrX')) & (df4['Fold']<0) & (df4['FDR']<=0.05)]\n",
    "df4_4.to_csv('./macs2/tsv_files/MSL2_clampDH-clampDH_vs_yw_males_autosomes_down.tsv', sep=\"\\t\", index=False)\n",
    "df4_4.iloc[:,0:3].to_csv('./macs2/tsv_files/MSL2_clampDH-clampDH_vs_yw_males_autosomes_down_clean.tsv', sep=\"\\t\", index=False, header=False)\n",
    "\n"
   ]
  }
 ],
 "metadata": {
  "kernelspec": {
   "display_name": "data2060_env",
   "language": "python",
   "name": "python3"
  },
  "language_info": {
   "codemirror_mode": {
    "name": "ipython",
    "version": 3
   },
   "file_extension": ".py",
   "mimetype": "text/x-python",
   "name": "python",
   "nbconvert_exporter": "python",
   "pygments_lexer": "ipython3",
   "version": "3.10.7"
  },
  "orig_nbformat": 4
 },
 "nbformat": 4,
 "nbformat_minor": 2
}
