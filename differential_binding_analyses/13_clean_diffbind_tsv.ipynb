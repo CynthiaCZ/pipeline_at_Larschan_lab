{
 "cells": [
  {
   "cell_type": "code",
   "execution_count": 1,
   "metadata": {},
   "outputs": [],
   "source": [
    "import pandas as pd"
   ]
  },
  {
   "cell_type": "code",
   "execution_count": 51,
   "metadata": {},
   "outputs": [],
   "source": [
    "# Example code for one pair of comparison\n",
    "# Get significant differential binding (FDR<=0.05) and separate each file by chrX/autosomes and up/down regulated\n",
    "# INPUT: DiffBind peaks in tsv files outputted from 12_DiffBind.Rmd\n",
    "# OUTPUT: chrX/autosomes and up/down regulated tsv files, and _clean.tsv files with only the first three columns\n",
    "\n",
    "df = pd.read_csv('/path/to/MSL2_clampDH-clampDH_vs_yw_males.tsv', sep='\\t')\n",
    "\n",
    "df_1 = df[(df['seqnames'].str.contains('chrX')) & ~(df['seqnames'].str.contains('chrX_')) & (df['Fold']>0) & (df['FDR']<=0.05)]\n",
    "df_1.to_csv('/path/to/macs2/tsv_files/MSL2_clampDH-clampDH_vs_yw_males_chrX_up.tsv', sep=\"\\t\", index=False)\n",
    "df_1.iloc[:,0:3].to_csv('./macs2/tsv_files/MSL2_clampDH-clampDH_vs_yw_males_chrX_up_clean.tsv', sep=\"\\t\", index=False, header=False)\n",
    "\n",
    "df_2 = df[(df['seqnames'].str.contains('chrX')) & ~(df['seqnames'].str.contains('chrX_')) & (df['Fold']<0) & (df['FDR']<=0.05)]\n",
    "df_2.to_csv('/path/to/macs2/tsv_files/MSL2_clampDH-clampDH_vs_yw_males_chrX_down.tsv', sep=\"\\t\", index=False)\n",
    "df_2.iloc[:,0:3].to_csv('/path/to/macs2/tsv_files/MSL2_clampDH-clampDH_vs_yw_males_chrX_down_clean.tsv', sep=\"\\t\", index=False, header=False)\n",
    "\n",
    "df_3 = df[~(df['seqnames'].str.contains('chrX')) & (df['Fold']>0) & (df['FDR']<=0.05)]\n",
    "df_3.to_csv('/path/to/macs2/tsv_files/MSL2_clampDH-clampDH_vs_yw_males_autosomes_up.tsv', sep=\"\\t\", index=False)\n",
    "df_3.iloc[:,0:3].to_csv('/path/to/macs2/tsv_files/MSL2_clampDH-clampDH_vs_yw_males_autosomes_up_clean.tsv', sep=\"\\t\", index=False, header=False)\n",
    "\n",
    "df_ = df[~(df['seqnames'].str.contains('chrX')) & (df['Fold']<0) & (df['FDR']<=0.05)]\n",
    "df_.to_csv('./macs2/tsv_files/MSL2_clampDH-clampDH_vs_yw_males_autosomes_down.tsv', sep=\"\\t\", index=False)\n",
    "df_.iloc[:,0:3].to_csv('/path/to/macs2/tsv_files/MSL2_clampDH-clampDH_vs_yw_males_autosomes_down_clean.tsv', sep=\"\\t\", index=False, header=False)\n",
    "\n"
   ]
  }
 ],
 "metadata": {
  "kernelspec": {
   "display_name": "data2060_env",
   "language": "python",
   "name": "python3"
  },
  "language_info": {
   "codemirror_mode": {
    "name": "ipython",
    "version": 3
   },
   "file_extension": ".py",
   "mimetype": "text/x-python",
   "name": "python",
   "nbconvert_exporter": "python",
   "pygments_lexer": "ipython3",
   "version": "3.10.7"
  },
  "orig_nbformat": 4
 },
 "nbformat": 4,
 "nbformat_minor": 2
}
